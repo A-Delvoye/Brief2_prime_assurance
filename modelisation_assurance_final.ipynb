{
 "cells": [
  {
   "cell_type": "markdown",
   "id": "410f3b48-e4d3-4572-a6f4-ca41367aa6cf",
   "metadata": {},
   "source": [
    "# Régression linéaire"
   ]
  },
  {
   "cell_type": "markdown",
   "id": "21e7e6e5-a1f9-4c7e-9fa7-6e07677ffd2a",
   "metadata": {},
   "source": [
    "## Import des packages"
   ]
  },
  {
   "cell_type": "code",
   "execution_count": 339,
   "id": "10804220",
   "metadata": {},
   "outputs": [
    {
     "name": "stdout",
     "output_type": "stream",
     "text": [
      "Requirement already satisfied: scikit-learn in c:\\users\\asus\\appdata\\local\\programs\\python\\python312\\lib\\site-packages (1.6.0)Note: you may need to restart the kernel to use updated packages.\n"
     ]
    },
    {
     "name": "stderr",
     "output_type": "stream",
     "text": [
      "\n",
      "[notice] A new release of pip is available: 24.0 -> 24.3.1\n",
      "[notice] To update, run: python.exe -m pip install --upgrade pip\n"
     ]
    },
    {
     "name": "stdout",
     "output_type": "stream",
     "text": [
      "\n",
      "Requirement already satisfied: numpy>=1.19.5 in c:\\users\\asus\\appdata\\local\\programs\\python\\python312\\lib\\site-packages (from scikit-learn) (2.2.1)\n",
      "Requirement already satisfied: scipy>=1.6.0 in c:\\users\\asus\\appdata\\local\\programs\\python\\python312\\lib\\site-packages (from scikit-learn) (1.15.0)\n",
      "Requirement already satisfied: joblib>=1.2.0 in c:\\users\\asus\\appdata\\local\\programs\\python\\python312\\lib\\site-packages (from scikit-learn) (1.4.2)\n",
      "Requirement already satisfied: threadpoolctl>=3.1.0 in c:\\users\\asus\\appdata\\local\\programs\\python\\python312\\lib\\site-packages (from scikit-learn) (3.5.0)\n"
     ]
    }
   ],
   "source": [
    "#%pip install pandas\n",
    "#%pip install numpy\n",
    "#%pip install matplotlib\n",
    "#%pip install sklearn\n",
    "%pip install scikit-learn"
   ]
  },
  {
   "cell_type": "code",
   "execution_count": 340,
   "id": "0c6ff46c-7813-43ec-812c-44a05953d672",
   "metadata": {},
   "outputs": [],
   "source": [
    "import pandas as pd\n",
    "import numpy as np\n",
    "import matplotlib.pyplot as plt\n",
    "from pandas.api.types import is_numeric_dtype\n",
    "import seaborn as sns\n",
    "import array\n",
    "from sklearn.preprocessing import OneHotEncoder, OrdinalEncoder\n",
    "from sklearn.dummy import DummyRegressor\n",
    "from sklearn.model_selection import train_test_split\n",
    "from sklearn.metrics import mean_squared_error, r2_score\n",
    "from sklearn.linear_model import LinearRegression\n",
    "from sklearn import linear_model\n",
    "from sklearn.linear_model import Ridge, ElasticNet\n",
    "from sklearn.preprocessing import MinMaxScaler, StandardScaler, MaxAbsScaler, PolynomialFeatures\n",
    "from sklearn.ensemble import RandomForestRegressor, GradientBoostingRegressor\n",
    "from sklearn.tree import DecisionTreeRegressor\n",
    "from sklearn.metrics import root_mean_squared_error\n",
    "from sklearn.pipeline import make_pipeline\n",
    "from sklearn.compose import ColumnTransformer\n",
    "import csv\n",
    "import datetime\n",
    "import itertools\n",
    "import pickle\n",
    "from sklearn.linear_model import Lasso\n",
    "from sklearn.model_selection import GridSearchCV\n",
    "from sklearn.pipeline import Pipeline"
   ]
  },
  {
   "cell_type": "markdown",
   "id": "5af0fa18",
   "metadata": {},
   "source": [
    "- Chargement des données"
   ]
  },
  {
   "cell_type": "code",
   "execution_count": 341,
   "id": "532e86ac",
   "metadata": {},
   "outputs": [],
   "source": [
    "def load_data(name):\n",
    "    df = pd.read_csv(name)\n",
    "    return df"
   ]
  },
  {
   "cell_type": "markdown",
   "id": "09737b0f-12e7-4f7e-8892-d2c684507b01",
   "metadata": {},
   "source": [
    "- préparation (filtrage) des colonnes"
   ]
  },
  {
   "cell_type": "code",
   "execution_count": null,
   "id": "1aefb470",
   "metadata": {},
   "outputs": [],
   "source": []
  },
  {
   "cell_type": "code",
   "execution_count": 342,
   "id": "66fd23bb",
   "metadata": {},
   "outputs": [],
   "source": [
    "def prepare_data(df):\n",
    "    columns=[]\n",
    "    columns_category=[]\n",
    "    for col in df.columns:\n",
    "        if is_numeric_dtype(df[col]):\n",
    "            #print(f\"La colonne '{col}' est numérique.\")\n",
    "            columns.append(col)\n",
    "        else:\n",
    "            #print(f\"La colonne '{col}' n'est pas numérique.\")\n",
    "            columns_category.append(col)\n",
    "    \n",
    "    df_numeric = df[columns].astype(float)\n",
    "    df_category = df[columns_category]\n",
    "    return df_category, df_numeric"
   ]
  },
  {
   "cell_type": "markdown",
   "id": "e57cf029",
   "metadata": {},
   "source": [
    "- transformation des catégories"
   ]
  },
  {
   "cell_type": "code",
   "execution_count": 343,
   "id": "945cd85b",
   "metadata": {},
   "outputs": [],
   "source": [
    "def transform_data(data):\n",
    "    encoder = OneHotEncoder()\n",
    "    for col in data.columns:\n",
    "        one_hot_array = encoder.fit_transform(data[[col]]).toarray()\n",
    "        one_hot_df = pd.DataFrame(one_hot_array, columns = encoder.get_feature_names_out(), index = data.index)\n",
    "        if col not in (\"region\",\"age_group\",\"bmi_category\"):\n",
    "            data = pd.concat([data, one_hot_df.iloc[:,0]], axis=1).drop([col], axis=1)\n",
    "        else:\n",
    "            data = pd.concat([data, one_hot_df], axis=1).drop([col], axis=1)    \n",
    "    return data           "
   ]
  },
  {
   "cell_type": "markdown",
   "id": "1f523624",
   "metadata": {},
   "source": [
    "- la normalisation (centrage et réduction)"
   ]
  },
  {
   "cell_type": "code",
   "execution_count": 344,
   "id": "065c6427",
   "metadata": {},
   "outputs": [],
   "source": [
    "def normalize_data(data, normalisation_code):\n",
    "    \"\"\"\n",
    "    Normalise les données selon le code fourni.\n",
    "    \n",
    "    Args:\n",
    "        data (pd.DataFrame): Données à normaliser.\n",
    "        normalisation_code (int): Code de normalisation.\n",
    "            - 0 : Standardisation manuelle (z-score).\n",
    "            - 1 : StandardScaler.\n",
    "            - 2 : MinMaxScaler.\n",
    "    \n",
    "    Returns:\n",
    "        pd.DataFrame: Données normalisées.\n",
    "    \"\"\"\n",
    "    if not isinstance(data, pd.DataFrame):\n",
    "        raise ValueError(\"Les données doivent être un DataFrame Pandas.\")\n",
    "    \n",
    "    if normalisation_code not in [0, 1, 2]:\n",
    "        raise ValueError(\"Code de normalisation invalide. Utiliser 0, 1 ou 2.\")\n",
    "    \n",
    "    if normalisation_code == 0:\n",
    "        # Normalisation manuelle (z-score)\n",
    "        for i in range(data.shape[1]):\n",
    "            mu = data.iloc[:, i].mean()\n",
    "            std = data.iloc[:, i].std()\n",
    "            if std != 0:  # Éviter la division par zéro\n",
    "                data.iloc[:, i] = (data.iloc[:, i] - mu) / std\n",
    "            else:\n",
    "                data.iloc[:, i] = 0  # Si la colonne est constante, tous les z-scores sont 0\n",
    "    else:\n",
    "        # Normalisation avec Scikit-learn\n",
    "        if normalisation_code in [1, 2]:\n",
    "            scaler = StandardScaler() if normalisation_code == 1 else MinMaxScaler()\n",
    "            data_scaled = scaler.fit_transform(data)\n",
    "            data = pd.DataFrame(data_scaled, columns=data.columns)\n",
    "    \n",
    "    return data\n"
   ]
  },
  {
   "cell_type": "markdown",
   "id": "be388766",
   "metadata": {},
   "source": [
    ". calcul performance"
   ]
  },
  {
   "cell_type": "code",
   "execution_count": 345,
   "id": "565094ae",
   "metadata": {},
   "outputs": [],
   "source": [
    "def calcul_Performane(y_test, y_pred):\n",
    "        # Évaluation du modèle\n",
    "    mse = mean_squared_error(y_test, y_pred)\n",
    "    rmse = np.sqrt(mse)\n",
    "    r2 = r2_score(y_test, y_pred)\n",
    "    return r2"
   ]
  },
  {
   "cell_type": "markdown",
   "id": "5e8e4586",
   "metadata": {},
   "source": [
    "- Affichage"
   ]
  },
  {
   "cell_type": "code",
   "execution_count": 346,
   "id": "26fd95f7",
   "metadata": {},
   "outputs": [],
   "source": [
    "def plot_performance(J_all, num_epochs):\n",
    "\tplt.xlabel('Modeles')\n",
    "\tplt.ylabel('R2')\n",
    "\t#plt.scatter(num_epochs, J_all,c ='red', marker = 'o' )\n",
    "\tplt.plot(num_epochs, J_all, 'm', linewidth = \"1\")\n",
    "\tplt.plot\n",
    "\tplt.show()"
   ]
  },
  {
   "cell_type": "markdown",
   "id": "3fd31e59",
   "metadata": {},
   "source": [
    "- modélisation des données"
   ]
  },
  {
   "cell_type": "code",
   "execution_count": 347,
   "id": "a187f0cc",
   "metadata": {},
   "outputs": [],
   "source": [
    "def model_data(data_X, data_cible_y, num_model):\n",
    "    \n",
    "    # Division des données en ensembles d'apprentissage et de test\n",
    "    X_train, X_test, y_train, y_test = train_test_split(data_X, data_cible_y, shuffle=True, train_size=0.85, random_state=42, stratify=data_X['smoker_no'])\n",
    "\n",
    "    # Modèle basé sur la moyenne (DummyRegressor)\n",
    "    if num_model == 0:\n",
    "        model = DummyRegressor(strategy='mean')\n",
    "        model.fit(X_train, y_train)   \n",
    "    elif num_model == 1:\n",
    "        model = LinearRegression().fit(X_train, y_train)\n",
    "    elif num_model == 2:\n",
    "        model = linear_model.Lasso(alpha=0.1).fit(X_train, y_train)\n",
    "    elif num_model == 3:\n",
    "        model = Ridge(alpha=0.1).fit(X_train, y_train)\n",
    "    else:\n",
    "        model = ElasticNet(random_state=0).fit(X_train, y_train)\n",
    "    \n",
    "    y_pred = model.predict(X_test)\n",
    "    r2 = calcul_Performane(y_test, y_pred)\n",
    "    return r2\n"
   ]
  },
  {
   "cell_type": "code",
   "execution_count": 348,
   "id": "d5770965",
   "metadata": {},
   "outputs": [],
   "source": [
    "def RRF(data_X, data_cible_y): \n",
    "\n",
    "    X_train, X_test, y_train, y_test =   train_test_split(data_X, data_cible_y, shuffle=True, train_size=0.85, random_state=42, stratify=data_X['smoker_no'])\n",
    "    #train_test_split(data_X, data_cible_y, test_size=0.2, random_state=42)\n",
    "    \n",
    "    # Régression linéaire avec PolynomialFeatures\n",
    "    poly = PolynomialFeatures(degree=2, include_bias=True)\n",
    "    #scaler = StandardScaler()\n",
    "    X_train_poly = poly.fit_transform(X_train)\n",
    "    X_test_poly = poly.transform(X_test)\n",
    "\n",
    "    # Modèle régression linéaire\n",
    "    linear_model = LinearRegression()\n",
    "    linear_model.fit(X_train_poly, y_train)\n",
    "    y_pred_linear = linear_model.predict(X_test_poly)\n",
    "    return(r2_score(y_test, y_pred_linear))"
   ]
  },
  {
   "cell_type": "markdown",
   "id": "b04ee672",
   "metadata": {},
   "source": [
    "## Main Function"
   ]
  },
  {
   "cell_type": "code",
   "execution_count": 349,
   "id": "a5673fba",
   "metadata": {},
   "outputs": [
    {
     "name": "stdout",
     "output_type": "stream",
     "text": [
      "<class 'pandas.core.frame.DataFrame'>\n",
      "RangeIndex: 1337 entries, 0 to 1336\n",
      "Data columns (total 11 columns):\n",
      " #   Column        Non-Null Count  Dtype  \n",
      "---  ------        --------------  -----  \n",
      " 0   sex           1337 non-null   object \n",
      " 1   children      1337 non-null   int64  \n",
      " 2   smoker        1337 non-null   object \n",
      " 3   region        1337 non-null   object \n",
      " 4   age_bmi       1337 non-null   float64\n",
      " 5   age_group     1337 non-null   object \n",
      " 6   bmi_category  1337 non-null   object \n",
      " 7   bmi_smoker    1337 non-null   float64\n",
      " 8   age_smoker    1337 non-null   int64  \n",
      " 9   log_age       1337 non-null   float64\n",
      " 10  log_charges   1337 non-null   float64\n",
      "dtypes: float64(4), int64(2), object(5)\n",
      "memory usage: 115.0+ KB\n",
      "None\n",
      "performances R2:  0.8716468511947745\n"
     ]
    }
   ],
   "source": [
    "df = load_data(\"df_assurance_clean_with_log_v4_with_new_val_7.csv\")\n",
    "\n",
    "print(df.info())\n",
    "df_category, df_numeric = prepare_data(df)\n",
    "df_cible = df_numeric.iloc[:,-1]\n",
    "df_numeric = df_numeric[df_numeric.columns[:-1]]\n",
    "\n",
    "df_category_transforme = transform_data(df_category)\n",
    "\n",
    "model_dict ={\n",
    "      0:'DummyRegr',\n",
    "      1:'LinearReg',\n",
    "      2:'Lasso',\n",
    "      3:'Ridge',\n",
    "      4:'ElasticNet',\n",
    "             }\n",
    "\n",
    "combined_df = pd.concat([df_numeric, df_category_transforme], axis=1)\n",
    "\n",
    "columns = combined_df.columns\n",
    "\n",
    "performances=[]\n",
    "n_epochs = []\n",
    "count = 0\n",
    "\n",
    "date_now = datetime.datetime.today()\n",
    "# Reformater la date pour éviter les caractères spéciaux\n",
    "formatted_date = date_now.strftime(\"%Y-%m-%d_%H-%M-%S\")\n",
    "file_name = \"results_RL_Norm1_\" + formatted_date + \".csv\"\n",
    "\n",
    "Selection = False\n",
    "\n",
    "with open(file_name, mode='w', newline='') as file:\n",
    "    writer = csv.writer(file)\n",
    "    writer.writerow([\"i\", \"j\", \"k\", \"l\", \"result\"])  # En-têtes\n",
    "                    \n",
    "    if Selection : \n",
    "        for r in range(1, len(columns) + 1):  # Longueur des combinaisons, de 1 à nombre de colonnes\n",
    "            combinaisons = list(itertools.combinations(columns, r))\n",
    "            #print(combinaisons)\n",
    "            for combinaison in combinaisons:\n",
    "                df_subset = combined_df[list(combinaison)]  # Sous-ensemble du DataFrame\n",
    "                \n",
    "                #for normalisation in range(3):# on utilise qu'une méthode de normalisation pour le moment\n",
    "                #    df_subset_normalizes = normalize_data(df_subset, normalisation)\n",
    "                df_subset_normalizes = normalize_data(df_subset, 1)\n",
    "\n",
    "\n",
    "                    #for methode_modelisation in range(6):#:# on utilise que deux méthode de modélisation linéaire pour le moment\n",
    "                resultat = RRF(df_subset_normalizes, df_cible)\n",
    "                performances.append(resultat)\n",
    "                n_epochs.append(count)\n",
    "                count +=1\n",
    "                writer.writerow([r, combinaison, 1, 6, resultat])\n",
    "        \n",
    "        plot_performance(performances, n_epochs )\n",
    "\n",
    "    else:\n",
    "        combined_df_normalizes = normalize_data(combined_df, 1)\n",
    "        resultat = RRF(combined_df_normalizes, df_cible)\n",
    "        writer.writerow(['All','ALL', 1, 'RFF', resultat])\n",
    "        print(\"performances R2: \", resultat)"
   ]
  },
  {
   "cell_type": "markdown",
   "id": "8e91012e",
   "metadata": {},
   "source": [
    ". Utilisation de PolynomialFeatures pour améliorer les performances"
   ]
  },
  {
   "cell_type": "code",
   "execution_count": 350,
   "id": "689d9e4e",
   "metadata": {},
   "outputs": [
    {
     "name": "stdout",
     "output_type": "stream",
     "text": [
      "Régression linéaire R2: 0.872\n"
     ]
    }
   ],
   "source": [
    "# Chargement des données\n",
    "#('age', 'bmi', 'children', 'smoker_no', 'region_northwest', 'region_southeast', 'region_southwest')\n",
    "#combined_df_selection = combined_df[['age', 'bmi', 'children', 'smoker_no', 'region_northwest', 'region_southeast', 'region_southwest']]\n",
    "#print(combined_df_selection.info)\n",
    "combined_df = normalize_data(combined_df, 1)\n",
    "X_train, X_test, y_train, y_test = train_test_split(combined_df, df_cible, shuffle=True, train_size=0.85, random_state=42, stratify=combined_df['smoker_no'])\n",
    "#train_test_split(combined_df, df_cible, test_size=0.2, random_state=42)\n",
    "\n",
    "\n",
    "# Régression linéaire avec PolynomialFeatures\n",
    "poly = PolynomialFeatures(degree=2, include_bias=True)\n",
    "#scaler = StandardScaler()\n",
    "X_train_poly = poly.fit_transform(X_train)\n",
    "X_test_poly = poly.transform(X_test)\n",
    "\n",
    "# Modèle régression linéaire\n",
    "linear_model = LinearRegression()\n",
    "linear_model.fit(X_train_poly, y_train)\n",
    "y_pred_linear = linear_model.predict(X_test_poly)\n",
    "rmse_linear = np.sqrt(mean_squared_error(y_test, y_pred_linear))\n",
    "r2_linear = r2_score(y_test, y_pred_linear)\n",
    "print(f\"Régression linéaire R2: {r2_linear:.3f}\")\n"
   ]
  },
  {
   "cell_type": "markdown",
   "id": "cfac777d",
   "metadata": {},
   "source": [
    ". Utilisation des pipelines"
   ]
  },
  {
   "cell_type": "code",
   "execution_count": 351,
   "id": "6f0de89c",
   "metadata": {},
   "outputs": [
    {
     "data": {
      "text/plain": [
       "'score_ = []\\nstate_ = []\\nfor i in range(1000):\\n    X_train_, X_test_, y_train_, y_test_  = train_test_split(df_numeric, df_cible, test_size=0.2, random_state=i)\\n    clf_ = make_pipeline(preprocessor, PolynomialFeatures(2,), LinearRegression())\\n    clf_.fit(X_train_, y_train_)\\n    y_pred_ = clf_.predict(X_test_)\\n    score_.append(r2_score(y_test_, y_pred_))\\n    state_.append(i)\\nplot_performance(score_, state_)'"
      ]
     },
     "execution_count": 351,
     "metadata": {},
     "output_type": "execute_result"
    }
   ],
   "source": [
    "numeric_features = ['children','bmi_smoker','age_smoker','age_bmi','log_age']#'age', 'bmi', ,'log_children'\n",
    "categorical_features = ['sex','smoker']\n",
    "ordinal_features = ['region','age_group','bmi_category']\n",
    "\n",
    "df_cible = df.iloc[:,-1]\n",
    "df_numeric = df[df.columns[:-1]]\n",
    "# Chargement des données\n",
    "X_train, X_test, y_train, y_test = train_test_split(df_numeric, df_cible, shuffle=True, train_size=0.85, random_state=42, stratify=df_numeric['smoker'])\n",
    "#(df_numeric, df_cible, test_size=0.2, random_state=42)\n",
    "\n",
    "preprocessor = ColumnTransformer(\n",
    "    transformers=[\n",
    "        ('num', StandardScaler(), numeric_features),  # Normalisation des données numériques\n",
    "        ('cat', OneHotEncoder(drop='first'), categorical_features),  # Encodage des variables catégoriques\n",
    "        ('ord', OrdinalEncoder(), ordinal_features)\n",
    "    ], remainder='passthrough',\n",
    "    )\n",
    "#print(preprocessor)\n",
    "# Création d'un pipeline avec prétraitement et modèle\n",
    "# Régression linéaire\n",
    "lr_model = make_pipeline(preprocessor, PolynomialFeatures(2,include_bias=True), LinearRegression())\n",
    "lr_model.fit(X_train, y_train)\n",
    "\n",
    "\"\"\"score_ = []\n",
    "state_ = []\n",
    "for i in range(1000):\n",
    "    X_train_, X_test_, y_train_, y_test_  = train_test_split(df_numeric, df_cible, test_size=0.2, random_state=i)\n",
    "    clf_ = make_pipeline(preprocessor, PolynomialFeatures(2,), LinearRegression())\n",
    "    clf_.fit(X_train_, y_train_)\n",
    "    y_pred_ = clf_.predict(X_test_)\n",
    "    score_.append(r2_score(y_test_, y_pred_))\n",
    "    state_.append(i)\n",
    "plot_performance(score_, state_)\"\"\""
   ]
  },
  {
   "cell_type": "code",
   "execution_count": 352,
   "id": "147682b3",
   "metadata": {},
   "outputs": [
    {
     "name": "stdout",
     "output_type": "stream",
     "text": [
      "\n",
      "Résultats Régression Linéaire après Normalisation\n",
      "MSE : 0.26394812418767055\n",
      "R² : 0.9182986179495953\n"
     ]
    }
   ],
   "source": [
    "# Prédictions\n",
    "y_pred_lr = lr_model.predict(X_test)\n",
    "\n",
    "# Evaluation\n",
    "mse_lr = root_mean_squared_error(y_test, y_pred_lr)\n",
    "r2_lr = r2_score(y_test, y_pred_lr)\n",
    "\n",
    "# Affichage des résultats\n",
    "print(\"\\nRésultats Régression Linéaire après Normalisation\")\n",
    "print(\"MSE :\", mse_lr)\n",
    "print(\"R² :\", r2_lr)"
   ]
  },
  {
   "cell_type": "markdown",
   "id": "06b60e9a",
   "metadata": {},
   "source": [
    "# Enregistrement du modèle en format.pkl"
   ]
  },
  {
   "cell_type": "code",
   "execution_count": 353,
   "id": "cf645033",
   "metadata": {},
   "outputs": [],
   "source": [
    "with open('linear_regression_model_1.pkl', 'wb') as file:\n",
    "    pickle.dump(lr_model, file)"
   ]
  },
  {
   "cell_type": "code",
   "execution_count": 354,
   "id": "64760284",
   "metadata": {},
   "outputs": [],
   "source": [
    "def affichage_performance(results):\n",
    "    methods = list(results.keys())\n",
    "    mse_values = [results[method]['MSE'] for method in methods]\n",
    "    r2_values = [results[method]['R2'] for method in methods]\n",
    "    training_times = [results[method]['Training Time (s)'] for method in methods]\n",
    "\n",
    "    # Créer une figure avec deux axes\n",
    "    fig, ax1 = plt.subplots(figsize=(10, 6))\n",
    "\n",
    "    # Axe 1 pour MSE et R²\n",
    "    ax1.set_title(\"Performances et Temps d'Apprentissage des Modèles\")\n",
    "    ax1.set_xlabel(\"Méthodes\")\n",
    "    ax1.set_ylabel(\"MSE / R²\", color='tab:blue')\n",
    "\n",
    "    # Barres pour MSE\n",
    "    width = 0.35  # Largeur des barres\n",
    "    x = np.arange(len(methods))\n",
    "    bar_mse = ax1.bar(x - width/2, mse_values, width, label='MSE', color='tab:blue', alpha=0.7)\n",
    "\n",
    "    # Ligne pour R²\n",
    "    line_r2 = ax1.plot(x, r2_values, marker='o', label='R²', color='tab:cyan')\n",
    "\n",
    "    # Ajouter les valeurs au-dessus des barres\n",
    "    for i, v in enumerate(mse_values):\n",
    "        ax1.text(x[i] - width/2, v + 0.1, f\"{v:.2f}\", ha='center', color='blue', fontsize=9)\n",
    "\n",
    "    for i, v in enumerate(r2_values):\n",
    "        ax1.text(x[i], v + 0.01, f\"{v:.2f}\", ha='center', color='cyan', fontsize=9)\n",
    "\n",
    "    ax1.legend(loc='upper left')\n",
    "\n",
    "    # Axe 2 pour le temps d'apprentissage\n",
    "    ax2 = ax1.twinx()\n",
    "    ax2.set_ylabel(\"Temps d'Apprentissage (s)\", color='tab:red')\n",
    "\n",
    "    # Barres pour les temps d'apprentissage\n",
    "    bar_time = ax2.bar(x + width/2, training_times, width, label='Temps', color='tab:red', alpha=0.7)\n",
    "\n",
    "    # Ajouter les valeurs au-dessus des barres\n",
    "    for i, v in enumerate(training_times):\n",
    "        ax2.text(x[i] + width/2, v + 0.001, f\"{v:.3f}s\", ha='center', color='red', fontsize=9)\n",
    "\n",
    "    ax2.legend(loc='upper right')\n",
    "\n",
    "    # Ajouter les labels sur l'axe x\n",
    "    plt.xticks(x, methods)\n",
    "\n",
    "    # Afficher le graphique\n",
    "    plt.tight_layout()\n",
    "    plt.show()"
   ]
  },
  {
   "cell_type": "code",
   "execution_count": 355,
   "id": "9d5d4ac0",
   "metadata": {},
   "outputs": [
    {
     "name": "stdout",
     "output_type": "stream",
     "text": [
      "Training Ridge...\n",
      "Training Lasso...\n",
      "Training ElasticNet...\n",
      "\n",
      "Model: Ridge\n",
      " - MSE: 0.06941039160103851\n",
      " - R2: 0.9186014370270107\n",
      " - Training Time: 0.87 seconds\n",
      " - Best Params: {'model__alpha': 10}\n",
      "\n",
      "Model: Lasso\n",
      " - MSE: 0.16383902583294124\n",
      " - R2: 0.8078636216555166\n",
      " - Training Time: 0.59 seconds\n",
      " - Best Params: {'model__alpha': 0.09}\n",
      "\n",
      "Model: ElasticNet\n",
      " - MSE: 0.07895698121248937\n",
      " - R2: 0.9074060142993663\n",
      " - Training Time: 1.57 seconds\n",
      " - Best Params: {'model__alpha': 0.1, 'model__l1_ratio': 0.1}\n"
     ]
    }
   ],
   "source": [
    "import time\n",
    "\n",
    "\n",
    "df_cible = df.iloc[:,-1]\n",
    "df_numeric = df[df.columns[:-1]]\n",
    "# Chargement des données\n",
    "X_train, X_test, y_train, y_test = train_test_split(df_numeric, df_cible, shuffle=True, train_size=0.85, random_state=42, stratify=df_numeric['smoker'])\n",
    "\n",
    "#train_test_split(df_numeric, df_cible, test_size=0.2, random_state=42)\n",
    "preprocessor = ColumnTransformer(\n",
    "    transformers=[\n",
    "        ('num', StandardScaler(), numeric_features),  # Normalisation des données numériques\n",
    "        ('cat', OneHotEncoder(drop='first'), categorical_features),  # Encodage des variables catégoriques\n",
    "        ('ord', OrdinalEncoder(), ordinal_features)\n",
    "    ], remainder='passthrough',\n",
    "    )\n",
    "\n",
    "# Modèles à tester\n",
    "models = {\n",
    "    #'LinearRegression': LinearRegression(),\n",
    "    'Ridge': Ridge(),\n",
    "    'Lasso': Lasso(),\n",
    "    'ElasticNet': ElasticNet()\n",
    "}\n",
    "\n",
    "# Ajout de caractéristiques polynomiales\n",
    "polynomial_preprocessor = Pipeline([\n",
    "    ('preprocessor', preprocessor),\n",
    "    ('poly', PolynomialFeatures(degree=2, include_bias=True))\n",
    "])\n",
    "\n",
    "# Hyperparamètres pour optimisation\n",
    "param_grid = {\n",
    "    'Ridge': {'model__alpha': [0.15, 0.2, 10]},\n",
    "    'Lasso': {'model__alpha': [0.09, 0.15, 10] },\n",
    "    'ElasticNet': {\n",
    "        'model__alpha': [0.1, 1.0, 20.0],\n",
    "        'model__l1_ratio': [0.1, 0.5, 0.9]\n",
    "    }\n",
    "}\n",
    "\n",
    "# Résultats\n",
    "results = {}\n",
    "\n",
    "# Entraîner et évaluer chaque modèle\n",
    "for model_name, model in models.items():\n",
    "    print(f\"Training {model_name}...\")\n",
    "    \n",
    "    start_time = time.time()  # Démarrer le timer\n",
    "    # Choix de la préprocessing\n",
    "    if model_name == 'LinearRegression':\n",
    "        pipeline = Pipeline([\n",
    "            ('preprocessor', preprocessor),\n",
    "            ('model', model)\n",
    "        ])\n",
    "    else:\n",
    "        pipeline = Pipeline([\n",
    "            ('preprocessor', polynomial_preprocessor),\n",
    "            ('model', model)\n",
    "        ])\n",
    "    \n",
    "    if model_name in param_grid:\n",
    "        # Optimisation des hyperparamètres avec GridSearchCV\n",
    "        search = GridSearchCV(pipeline, param_grid[model_name], cv=5, scoring='r2')\n",
    "        search.fit(X_train, y_train)\n",
    "        best_model = search.best_estimator_\n",
    "        best_params = search.best_params_\n",
    "    else:\n",
    "        # Pas d'optimisation pour la régression linéaire\n",
    "        pipeline.fit(X_train, y_train)\n",
    "        best_model = pipeline\n",
    "        best_params = None\n",
    "\n",
    "    end_time = time.time()\n",
    "    elapsed_time = end_time - start_time\n",
    "\n",
    "    # Évaluation\n",
    "    y_pred = best_model.predict(X_test)\n",
    "    mse = mean_squared_error(y_test, y_pred)\n",
    "    r2 = r2_score(y_test, y_pred)\n",
    "\n",
    "    results[model_name] = {\n",
    "        'MSE': mse,\n",
    "        'R2': r2,\n",
    "        'Best Params': best_params,\n",
    "        'Training Time (s)': elapsed_time\n",
    "    }\n",
    "\n",
    "    \"\"\"residuals = y_test - y_pred\n",
    "    plt.figure(figsize=(8, 5))\n",
    "    plt.scatter(y_pred, residuals, color=\"blue\", alpha=0.7)\n",
    "    plt.axhline(y=0, color=\"red\", linestyle=\"--\", linewidth=1)  # Ligne centrale (résidu = 0)\n",
    "    plt.title(\"Graphe des résidus\")\n",
    "    plt.xlabel(\"Valeurs prédites\")\n",
    "    plt.ylabel(\"Résidus\")\n",
    "    plt.grid(alpha=0.3)\n",
    "    plt.show()\n",
    "\n",
    "    plt.figure(figsize=(8, 5))\n",
    "    plt.hist(residuals, bins=20, color=\"blue\", alpha=0.7)\n",
    "    plt.title(\"Distribution des résidus\")\n",
    "    plt.xlabel(\"Résidus\")\n",
    "    plt.ylabel(\"Fréquence\")\n",
    "    plt.grid(alpha=0.3)\n",
    "    plt.show()\n",
    "\n",
    "    from scipy.stats import shapiro\n",
    "    \n",
    "    stat, p_value = shapiro(residuals)\n",
    "    print(\"Statistique de test Shapiro-Wilk :\", stat)\n",
    "    print(\"p-value :\", p_value)\n",
    "\n",
    "    if p_value > 0.05:\n",
    "        print(\"Les résidus semblent suivre une distribution normale.\")\n",
    "    else:\n",
    "        print(\"Les résidus ne suivent pas une distribution normale.\")\n",
    "    results[model_name] = {\n",
    "        'MSE': mse,\n",
    "        'R2': r2,\n",
    "        'Best Params': best_params\n",
    "    }\"\"\"\n",
    "\n",
    "# Afficher les résultats\n",
    "for model_name, metrics in results.items():\n",
    "    print(f\"\\nModel: {model_name}\")\n",
    "    print(f\" - MSE: {metrics['MSE']}\")\n",
    "    print(f\" - R2: {metrics['R2']}\")\n",
    "    print(f\" - Training Time: {metrics['Training Time (s)']:.2f} seconds\")\n",
    "    if metrics['Best Params']:\n",
    "        print(f\" - Best Params: {metrics['Best Params']}\")\n",
    "\n"
   ]
  },
  {
   "cell_type": "code",
   "execution_count": 356,
   "id": "af0cdf45",
   "metadata": {},
   "outputs": [
    {
     "data": {
      "image/png": "[encoded data removed]",
      "text/plain": [
       "<Figure size 1000x600 with 2 Axes>"
      ]
     },
     "metadata": {},
     "output_type": "display_data"
    }
   ],
   "source": [
    "affichage_performance(results)"
   ]
  },
  {
   "cell_type": "code",
   "execution_count": 357,
   "id": "f46cac5b",
   "metadata": {},
   "outputs": [
    {
     "name": "stdout",
     "output_type": "stream",
     "text": [
      "Performances sauvegardées dans 'model_performances_withoutoutliers.csv'\n"
     ]
    }
   ],
   "source": [
    "results_withoutoutliers =results\n",
    "df_results = pd.DataFrame.from_dict(results_withoutoutliers, orient='index')\n",
    "\n",
    "# Sauvegarder dans un fichier CSV\n",
    "df_results.to_csv('model_performances_withoutoutliers.csv', index_label='Model')\n",
    "\n",
    "print(\"Performances sauvegardées dans 'model_performances_withoutoutliers.csv'\")"
   ]
  },
  {
   "cell_type": "code",
   "execution_count": 358,
   "id": "24dff9d8",
   "metadata": {},
   "outputs": [
    {
     "data": {
      "image/png": "[encoded data removed]",
      "text/plain": [
       "<Figure size 1000x600 with 3 Axes>"
      ]
     },
     "metadata": {},
     "output_type": "display_data"
    }
   ],
   "source": [
    "# Performances sans outliers\n",
    "results_without_outliers = {\n",
    "    'Ridge': {'MSE': 16072509.56, 'R2': 0.6932, 'Training Time (s)': 0.60},\n",
    "    'Lasso': {'MSE': 15750216.24, 'R2': 0.6994, 'Training Time (s)': 1.46},\n",
    "    'ElasticNet': {'MSE': 15819129.81, 'R2': 0.6980, 'Training Time (s)': 3.34},\n",
    "}\n",
    "\n",
    "# Performances avec outliers\n",
    "results_with_outliers = {\n",
    "    'Ridge': {'MSE': 12389026.96, 'R2': 0.9145, 'Training Time (s)': 0.56},\n",
    "    'Lasso': {'MSE': 12591627.36, 'R2': 0.9131, 'Training Time (s)': 1.41},\n",
    "    'ElasticNet': {'MSE': 13112338.35, 'R2': 0.9095, 'Training Time (s)': 2.97},\n",
    "}\n",
    "\n",
    "# Extraire les noms des modèles\n",
    "models = list(results_without_outliers.keys())\n",
    "\n",
    "# Extraire les valeurs de MSE, R2 et Temps d'apprentissage\n",
    "mse_without = [results_without_outliers[model]['MSE'] for model in models]\n",
    "r2_without = [results_without_outliers[model]['R2'] for model in models]\n",
    "time_without = [results_without_outliers[model]['Training Time (s)'] for model in models]\n",
    "\n",
    "mse_with = [results_with_outliers[model]['MSE'] for model in models]\n",
    "r2_with = [results_with_outliers[model]['R2'] for model in models]\n",
    "time_with = [results_with_outliers[model]['Training Time (s)'] for model in models]\n",
    "\n",
    "# Création d'un graphique à barres\n",
    "x = np.arange(len(models))  # positions sur l'axe x\n",
    "width = 0.25  # largeur des barres\n",
    "\n",
    "# Créer un graphique avec plusieurs axes\n",
    "fig, ax1 = plt.subplots(figsize=(10, 6))\n",
    "\n",
    "# Barres pour MSE sans et avec outliers\n",
    "ax1.bar(x - width, mse_without, width, label='MSE sans outliers', color='tab:blue', alpha=0.7)\n",
    "ax1.bar(x, mse_with, width, label='MSE avec outliers', color='tab:orange', alpha=0.7)\n",
    "\n",
    "# Barres pour R² sans et avec outliers\n",
    "ax2 = ax1.twinx()  # Créer un deuxième axe y pour R²\n",
    "ax2.plot(x, r2_without, marker='o', label='R² sans outliers', color='tab:green', linestyle='--')\n",
    "ax2.plot(x, r2_with, marker='o', label='R² avec outliers', color='tab:red', linestyle='--')\n",
    "\n",
    "# Barres pour le temps d'apprentissage\n",
    "ax3 = ax1.twinx()  # Créer un troisième axe y pour le temps\n",
    "ax3.spines['right'].set_position(('outward', 60))  # Décaler le troisième axe y\n",
    "ax3.bar(x + width, time_without, width, label='Temps sans outliers', color='tab:purple', alpha=0.7)\n",
    "ax3.bar(x + 2*width, time_with, width, label='Temps avec outliers', color='tab:brown', alpha=0.7)\n",
    "\n",
    "# Configuration des légendes et titres\n",
    "ax1.set_title(\"Comparaison des Performances des Modèles (Avec et Sans Outliers)\")\n",
    "ax1.set_xlabel(\"Modèles\")\n",
    "ax1.set_ylabel(\"MSE (plus bas est mieux)\", color='tab:blue')\n",
    "ax2.set_ylabel(\"R² (plus haut est mieux)\", color='tab:green')\n",
    "ax3.set_ylabel(\"Temps d'apprentissage (s)\", color='tab:purple')\n",
    "\n",
    "# Configurer les positions des axes et les étiquettes\n",
    "ax1.set_xticks(x + width / 2)\n",
    "ax1.set_xticklabels(models)\n",
    "\n",
    "# Ajouter les légendes\n",
    "ax1.legend(loc='upper left')\n",
    "ax2.legend(loc='upper center')\n",
    "ax3.legend(loc='upper right')\n",
    "\n",
    "# Ajouter les valeurs au-dessus des barres\n",
    "for i, v in enumerate(mse_without):\n",
    "    ax1.text(x[i] - width, v + 0.1, f\"{v:.2f}\", ha='center', color='blue', fontsize=9)\n",
    "for i, v in enumerate(mse_with):\n",
    "    ax1.text(x[i], v + 0.1, f\"{v:.2f}\", ha='center', color='orange', fontsize=9)\n",
    "for i, v in enumerate(r2_without):\n",
    "    ax2.text(x[i], v + 0.01, f\"{v:.2f}\", ha='center', color='green', fontsize=9)\n",
    "for i, v in enumerate(r2_with):\n",
    "    ax2.text(x[i], v + 0.01, f\"{v:.2f}\", ha='center', color='red', fontsize=9)\n",
    "for i, v in enumerate(time_without):\n",
    "    ax3.text(x[i] + width, v + 0.01, f\"{v:.2f}s\", ha='center', color='purple', fontsize=9)\n",
    "for i, v in enumerate(time_with):\n",
    "    ax3.text(x[i] + 2*width, v + 0.01, f\"{v:.2f}s\", ha='center', color='brown', fontsize=9)\n",
    "\n",
    "# Afficher le graphique\n",
    "plt.tight_layout()\n",
    "plt.show()"
   ]
  }
 ],
 "metadata": {
  "kernelspec": {
   "display_name": "Python 3",
   "language": "python",
   "name": "python3"
  },
  "language_info": {
   "codemirror_mode": {
    "name": "ipython",
    "version": 3
   },
   "file_extension": ".py",
   "mimetype": "text/x-python",
   "name": "python",
   "nbconvert_exporter": "python",
   "pygments_lexer": "ipython3",
   "version": "3.12.2"
  }
 },
 "nbformat": 4,
 "nbformat_minor": 5
}
